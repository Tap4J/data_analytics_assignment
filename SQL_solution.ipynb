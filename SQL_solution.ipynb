{
 "cells": [
  {
   "cell_type": "markdown",
   "id": "65ac936b-0a00-497d-8958-2cb01c6aad4e",
   "metadata": {},
   "source": [
    "# Creating DB Model in pgAdmin 4"
   ]
  },
  {
   "cell_type": "markdown",
   "id": "962ce65a-b58b-46d6-bac3-037e1872eb7b",
   "metadata": {},
   "source": [
    "<p>First, it is usefull to look into the data file. Typically it means examining the structure, identifying possible problems such as missing data or different data types for particuluar columns. In this case, it was obvious that data contains nested objects. Therefore, I expected to execute preprocessing and reformating data."
   ]
  },
  {
   "cell_type": "markdown",
   "id": "b3d6cbe5-9844-42e4-953f-a6b5bbde1b56",
   "metadata": {},
   "source": [
    "## Table structure"
   ]
  },
  {
   "cell_type": "markdown",
   "id": "1cb78e61-6e8c-4a8b-8314-791603a1bbfa",
   "metadata": {},
   "source": [
    "<p>After initial examination of data, I create simple data model. I prefer to use dbdiagram for creating the model</p>"
   ]
  },
  {
   "cell_type": "raw",
   "id": "7a73fa68-3683-41e8-a01d-1f8773c2b3f8",
   "metadata": {},
   "source": [
    "CREATE TABLE \"products\" (\n",
    "  \"product_id\" integer PRIMARY KEY,\n",
    "  \"product_name\" varchar(255) UNIQUE,\n",
    "  \"product_price\" integer\n",
    ");\n",
    "\n",
    "CREATE TABLE \"customers\" (\n",
    "  \"user_id\" integer PRIMARY KEY,\n",
    "  \"user_name\" varchar(255) UNIQUE,\n",
    "  \"user_city\" varchar(255)\n",
    ");\n",
    "\n",
    "CREATE TABLE \"orders\" (\n",
    "  \"order_id\" integer,\n",
    "  \"created\" integer,\n",
    "  \"customer_id\" integer,\n",
    "  \"product_id\" integer,\n",
    "  \"quantity\" integer,\n",
    "  PRIMARY KEY (\"order_id\", \"product_id\")\n",
    ");\n",
    "\n",
    "ALTER TABLE \"orders\" ADD FOREIGN KEY (\"customer_id\") REFERENCES \"customers\" (\"user_id\");\n",
    "\n",
    "ALTER TABLE \"orders\" ADD FOREIGN KEY (\"product_id\") REFERENCES \"products\" (\"product_id\");"
   ]
  },
  {
   "cell_type": "markdown",
   "id": "46de5722-0824-47de-8a02-1c05f4ac6218",
   "metadata": {},
   "source": [
    "<b>Visually it looks like this:"
   ]
  },
  {
   "cell_type": "markdown",
   "id": "65a1919a-906c-4672-9cf1-9dcb27836f7d",
   "metadata": {},
   "source": [
    "![Example Image](data_model.png)"
   ]
  },
  {
   "cell_type": "markdown",
   "id": "60bff609-cd1a-45e7-b2e7-b915c5b2e31f",
   "metadata": {},
   "source": [
    "<p>Now, when my model is ready, I can start to create tables in my db. I log to pgAdmin4 and create following table structure</p>"
   ]
  },
  {
   "cell_type": "raw",
   "id": "1080d682-5f78-45f1-a2a4-318e4e3ddc19",
   "metadata": {},
   "source": [
    "CREATE TABLE Products (\n",
    "    product_id INT PRIMARY KEY,\n",
    "    product_name VARCHAR(255) UNIQUE,\n",
    "    product_price INT\n",
    ");\n",
    "\n",
    "CREATE TABLE Customers (\n",
    "    user_id INT PRIMARY KEY,\n",
    "    user_name VARCHAR(255) UNIQUE,\n",
    "    user_city VARCHAR(255)\n",
    ");\n",
    "\n",
    "CREATE TABLE Orders (\n",
    "    order_id INT,\n",
    "    created INT,\n",
    "    customer_id INT REFERENCES customers(user_id),\n",
    "    product_id INT REFERENCES products(product_id)\n",
    "\n",
    ");\n"
   ]
  },
  {
   "cell_type": "markdown",
   "id": "904543ce-344f-44d2-9914-eb91cc850e06",
   "metadata": {},
   "source": [
    "<b> As you can see, I transformed my model a little bit. As I'm not using quantity as I assumed previously I altered the table to not have pk."
   ]
  },
  {
   "cell_type": "markdown",
   "id": "6597c888-afce-48e7-bfc6-306c09628dd7",
   "metadata": {},
   "source": [
    "## Inserting data to tables"
   ]
  },
  {
   "cell_type": "markdown",
   "id": "fab757aa-159e-493e-85c4-b251ddb34420",
   "metadata": {},
   "source": [
    "<p>Now my model is ready. I need to create python script to insert data from json file into my tables My json file contains nested structures, thus I must extract data from nested objects and insert it into correct tables while removing duplicates.  </p>\n",
    "<I>Note: For now I'm keeping the column created intact. I'm adding column quantity in case one product is present in customer order multiple times (standard situation)</I>\n"
   ]
  },
  {
   "cell_type": "markdown",
   "id": "de82870d-076c-4d4a-85bb-f5bc2a6922fa",
   "metadata": {},
   "source": [
    "<b>Python script for entering the data:"
   ]
  },
  {
   "cell_type": "code",
   "execution_count": null,
   "id": "096affb3-0e9f-468e-ae46-81382d4377cf",
   "metadata": {},
   "outputs": [],
   "source": [
    "import json\n",
    "import psycopg2\n",
    "\n",
    "# Connect to PostgreSQL database\n",
    "conn = psycopg2.connect(\n",
    "    host='localhost',\n",
    "    database='postgres',\n",
    "    user='postgres',\n",
    "    password='*******',\n",
    "    port=\"5432\"\n",
    ")\n",
    "\n",
    "cur = conn.cursor()\n",
    "\n",
    "try:\n",
    "    # Read the ndjson file and insert data into the database\n",
    "    with open('dataset/data.ndjson', 'r') as file:\n",
    "        for line in file:\n",
    "            data = json.loads(line)\n",
    "\n",
    "            # Extract data from the JSON structure\n",
    "            order_id = data['id']\n",
    "            created = data['created']\n",
    "            user_id = data['user']['id']\n",
    "\n",
    "            # Insert data into Customers table\n",
    "            cur.execute(\"\"\"\n",
    "                INSERT INTO Customers (user_id, user_name, user_city)\n",
    "                VALUES (%s, %s, %s)\n",
    "                ON CONFLICT (user_id) DO NOTHING;\n",
    "            \"\"\", (user_id, data['user']['name'], data['user']['city']))\n",
    "\n",
    "            # Insert data into Products table and create a separate row for each product\n",
    "            for i, product in enumerate(data['products']):\n",
    "                product_id = product['id']\n",
    "                cur.execute(\"\"\"\n",
    "                    INSERT INTO Products (product_id, product_name, product_price)\n",
    "                    VALUES (%s, %s, %s)\n",
    "                    ON CONFLICT (product_id) DO NOTHING;\n",
    "                \"\"\", (product_id, product['name'], product['price']))\n",
    "\n",
    "                # Insert data into Orders table for each product\n",
    "                cur.execute(\"\"\"\n",
    "                    INSERT INTO Orders (order_id, created, customer_id, product_id)\n",
    "                    VALUES (%s, %s, %s, %s);\n",
    "                \"\"\", (order_id, created, user_id, product_id))\n",
    "\n",
    "    conn.commit()\n",
    "\n",
    "except Exception as e:\n",
    "    print(f\"Error: {e}\")\n",
    "\n",
    "finally:\n",
    "    cur.close()\n",
    "    conn.close()\n"
   ]
  },
  {
   "cell_type": "markdown",
   "id": "660b9d0e-338a-4852-9479-95de01933fd4",
   "metadata": {},
   "source": [
    "## Adjust data in tables"
   ]
  },
  {
   "cell_type": "markdown",
   "id": "a10e6998-4cbe-4d2b-9331-5bcf3741fb8e",
   "metadata": {},
   "source": [
    "<p>Now, I have data ready in my tables. After quick check, I can see that my data are located it correct tables and don't contain missing or duplicate data. Now, I updated column created and change datatype to timestamp. After this, I'am able to create new sql query for returning only fridays.</p>"
   ]
  },
  {
   "cell_type": "markdown",
   "id": "94ea3cc9-90bc-49d6-95e7-bab324ec02d5",
   "metadata": {},
   "source": [
    "<b>Change column created to TIMESTAMP:"
   ]
  },
  {
   "cell_type": "raw",
   "id": "0bcf1abf-0457-4f29-8e4b-0b6ff69b4748",
   "metadata": {},
   "source": [
    "ALTER TABLE Orders\n",
    "ALTER COLUMN created TYPE TIMESTAMP USING TO_TIMESTAMP(created);"
   ]
  },
  {
   "cell_type": "markdown",
   "id": "198048f8-0fa2-4dc8-9e0c-64d5be5d855a",
   "metadata": {},
   "source": [
    "<b>Filter for Fridays"
   ]
  },
  {
   "cell_type": "raw",
   "id": "58ecae47-ea40-4020-a647-491538adaa1b",
   "metadata": {},
   "source": [
    "WHERE \n",
    "EXTRACT(DOW FROM orders.created) = 5 -- Filter for Fridays"
   ]
  },
  {
   "cell_type": "markdown",
   "id": "978b2378-3c4f-425e-856c-8bfa1955e057",
   "metadata": {},
   "source": [
    "## Answering the Questions"
   ]
  },
  {
   "cell_type": "markdown",
   "id": "98b73d31-1269-43bb-b3a4-04f3c0fb7a92",
   "metadata": {},
   "source": [
    "### Question 1: Which user spent the most money on products on all Fridays?"
   ]
  },
  {
   "cell_type": "markdown",
   "id": "06a055cf-8fa6-40c7-9658-0a1692f7237d",
   "metadata": {},
   "source": [
    "<p>In this case, I must create a query that will return only orders executed on Fridays. I need to know which user executed this order. I also need to calculate cumulative amount of money spent on one order and then sum up all orders executed on fridays by this specific user.</p><b> Thus my solutions looks like this:</b>"
   ]
  },
  {
   "cell_type": "code",
   "execution_count": 9,
   "id": "e6ab076c-7538-410a-8514-d5293351f323",
   "metadata": {},
   "outputs": [
    {
     "ename": "SyntaxError",
     "evalue": "invalid syntax (3948633944.py, line 1)",
     "output_type": "error",
     "traceback": [
      "\u001b[1;36m  Cell \u001b[1;32mIn[9], line 1\u001b[1;36m\u001b[0m\n\u001b[1;33m    WITH FridayOrders AS (\u001b[0m\n\u001b[1;37m         ^\u001b[0m\n\u001b[1;31mSyntaxError\u001b[0m\u001b[1;31m:\u001b[0m invalid syntax\n"
     ]
    }
   ],
   "source": [
    "WITH FridayOrders AS (\n",
    "    SELECT\n",
    "        orders.customer_id,\n",
    "        products.product_price  AS spending\n",
    "    FROM\n",
    "        Orders\n",
    "        JOIN products ON orders.product_id = products.product_id\n",
    "    WHERE\n",
    "        EXTRACT(DOW FROM orders.created) = 5 -- Filter for Fridays\n",
    ")\n",
    "\n",
    "SELECT\n",
    "    customers.user_id,\n",
    "    customers.user_name,\n",
    "    SUM(FridayOrders.spending) AS total_spending\n",
    "FROM\n",
    "    FridayOrders\n",
    "    JOIN Customers ON FridayOrders.customer_id = customers.user_id\n",
    "GROUP BY\n",
    "    customers.user_id, customers.user_name\n",
    "ORDER BY\n",
    "    total_spending DESC  total_spending DESC"
   ]
  },
  {
   "cell_type": "markdown",
   "id": "2d2eed73-716d-48f6-942f-d9b5fc1a02e3",
   "metadata": {},
   "source": [
    "<b>The following result is presented:"
   ]
  },
  {
   "cell_type": "code",
   "execution_count": 15,
   "id": "736eb84d-471f-4d45-9861-6f50982ad997",
   "metadata": {},
   "outputs": [
    {
     "data": {
      "text/html": [
       "<div>\n",
       "<style scoped>\n",
       "    .dataframe tbody tr th:only-of-type {\n",
       "        vertical-align: middle;\n",
       "    }\n",
       "\n",
       "    .dataframe tbody tr th {\n",
       "        vertical-align: top;\n",
       "    }\n",
       "\n",
       "    .dataframe thead th {\n",
       "        text-align: right;\n",
       "    }\n",
       "</style>\n",
       "<table border=\"1\" class=\"dataframe\">\n",
       "  <thead>\n",
       "    <tr style=\"text-align: right;\">\n",
       "      <th></th>\n",
       "      <th>user_id</th>\n",
       "      <th>user_name</th>\n",
       "      <th>total_spending</th>\n",
       "    </tr>\n",
       "  </thead>\n",
       "  <tbody>\n",
       "    <tr>\n",
       "      <th>0</th>\n",
       "      <td>4</td>\n",
       "      <td>User E</td>\n",
       "      <td>869810</td>\n",
       "    </tr>\n",
       "    <tr>\n",
       "      <th>1</th>\n",
       "      <td>1</td>\n",
       "      <td>User B</td>\n",
       "      <td>862980</td>\n",
       "    </tr>\n",
       "    <tr>\n",
       "      <th>2</th>\n",
       "      <td>5</td>\n",
       "      <td>User F</td>\n",
       "      <td>855470</td>\n",
       "    </tr>\n",
       "    <tr>\n",
       "      <th>3</th>\n",
       "      <td>2</td>\n",
       "      <td>User C</td>\n",
       "      <td>835880</td>\n",
       "    </tr>\n",
       "    <tr>\n",
       "      <th>4</th>\n",
       "      <td>3</td>\n",
       "      <td>User D</td>\n",
       "      <td>831690</td>\n",
       "    </tr>\n",
       "    <tr>\n",
       "      <th>5</th>\n",
       "      <td>7</td>\n",
       "      <td>User H</td>\n",
       "      <td>825720</td>\n",
       "    </tr>\n",
       "    <tr>\n",
       "      <th>6</th>\n",
       "      <td>6</td>\n",
       "      <td>User G</td>\n",
       "      <td>825350</td>\n",
       "    </tr>\n",
       "    <tr>\n",
       "      <th>7</th>\n",
       "      <td>0</td>\n",
       "      <td>User A</td>\n",
       "      <td>814700</td>\n",
       "    </tr>\n",
       "  </tbody>\n",
       "</table>\n",
       "</div>"
      ],
      "text/plain": [
       "   user_id user_name  total_spending\n",
       "0        4    User E          869810\n",
       "1        1    User B          862980\n",
       "2        5    User F          855470\n",
       "3        2    User C          835880\n",
       "4        3    User D          831690\n",
       "5        7    User H          825720\n",
       "6        6    User G          825350\n",
       "7        0    User A          814700"
      ]
     },
     "execution_count": 15,
     "metadata": {},
     "output_type": "execute_result"
    }
   ],
   "source": [
    "import pandas as pd\n",
    "df = pd.read_csv('results/question1.csv')\n",
    "df"
   ]
  },
  {
   "cell_type": "markdown",
   "id": "d9cf9ebe-c2d4-46d0-92e2-262ac0165011",
   "metadata": {},
   "source": [
    "### Answer question 1:\n",
    "<b>The answer is: USER E with user id: 4 and total spending of 869810 spend the most money on products on all Fridays"
   ]
  },
  {
   "cell_type": "markdown",
   "id": "ff4fee9c-d30e-4da6-afff-ab85ec4a257e",
   "metadata": {},
   "source": [
    "### Question 2: What are the best 3 products in each location of a user based on quantity?"
   ]
  },
  {
   "cell_type": "markdown",
   "id": "7fc805e3-2562-4a48-b2cd-43d6ab124570",
   "metadata": {},
   "source": [
    "<p>In this case, I must create a query that will return 3 products for each location users executed the purchase.The main criterium is quantity. I need to calculate the total quantity of each product for each user in each city, and assign a rank to each product based on quantity within the user and city.</p><b> Thus my solutions looks like this:</b>"
   ]
  },
  {
   "cell_type": "markdown",
   "id": "639c4df3-dada-40b3-9dbe-bf3eba6a32d5",
   "metadata": {},
   "source": [
    "WITH UserProductRank AS (\r\n",
    "    SELECT\r\n",
    "        customers.user_id,\r\n",
    "        customers.user_city,\r\n",
    "        products.product_name,\r\n",
    "        SUM(orders.quantity) AS total_quantity,\r\n",
    "        RANK() OVER (PARTITION BY customers.user_id, customers.user_city ORDER BY SUM(orders.quantity) DESC) AS ranking\r\n",
    "    FROM\r\n",
    "        customers\r\n",
    "        JOIN orders ON customers.user_id = orders.customer_id\r\n",
    "        JOIN products ON orders.product_id = products.product_id\r\n",
    "    GROUP BY\r\n",
    "        customers.user_id, customers.user_city, products.product_name\r\n",
    ")\r\n",
    "\r\n",
    "SELECT\r\n",
    "    user_id,\r\n",
    "    user_city,\r\n",
    "    product_name,\r\n",
    "    total_quantity\r\n",
    "FROM\r\n",
    "    UserProductRank\r\n",
    "WHERE\r\n",
    "    ranking <= 3;"
   ]
  },
  {
   "cell_type": "markdown",
   "id": "ba3a70ec-5cf7-43de-b7c1-c0ba4ec41364",
   "metadata": {},
   "source": [
    "<b>The following result is presented:"
   ]
  },
  {
   "cell_type": "code",
   "execution_count": 16,
   "id": "6e7ac623-651c-495e-88fa-90ff7394bc80",
   "metadata": {},
   "outputs": [
    {
     "data": {
      "text/html": [
       "<div>\n",
       "<style scoped>\n",
       "    .dataframe tbody tr th:only-of-type {\n",
       "        vertical-align: middle;\n",
       "    }\n",
       "\n",
       "    .dataframe tbody tr th {\n",
       "        vertical-align: top;\n",
       "    }\n",
       "\n",
       "    .dataframe thead th {\n",
       "        text-align: right;\n",
       "    }\n",
       "</style>\n",
       "<table border=\"1\" class=\"dataframe\">\n",
       "  <thead>\n",
       "    <tr style=\"text-align: right;\">\n",
       "      <th></th>\n",
       "      <th>user_id</th>\n",
       "      <th>user_city</th>\n",
       "      <th>product_name</th>\n",
       "      <th>total_quantity</th>\n",
       "    </tr>\n",
       "  </thead>\n",
       "  <tbody>\n",
       "    <tr>\n",
       "      <th>0</th>\n",
       "      <td>0</td>\n",
       "      <td>Prague</td>\n",
       "      <td>Product C</td>\n",
       "      <td>4400</td>\n",
       "    </tr>\n",
       "    <tr>\n",
       "      <th>1</th>\n",
       "      <td>0</td>\n",
       "      <td>Prague</td>\n",
       "      <td>Product L</td>\n",
       "      <td>4388</td>\n",
       "    </tr>\n",
       "    <tr>\n",
       "      <th>2</th>\n",
       "      <td>0</td>\n",
       "      <td>Prague</td>\n",
       "      <td>Product G</td>\n",
       "      <td>4362</td>\n",
       "    </tr>\n",
       "    <tr>\n",
       "      <th>3</th>\n",
       "      <td>1</td>\n",
       "      <td>Brno</td>\n",
       "      <td>Product L</td>\n",
       "      <td>4438</td>\n",
       "    </tr>\n",
       "    <tr>\n",
       "      <th>4</th>\n",
       "      <td>1</td>\n",
       "      <td>Brno</td>\n",
       "      <td>Product O</td>\n",
       "      <td>4413</td>\n",
       "    </tr>\n",
       "    <tr>\n",
       "      <th>5</th>\n",
       "      <td>1</td>\n",
       "      <td>Brno</td>\n",
       "      <td>Product N</td>\n",
       "      <td>4386</td>\n",
       "    </tr>\n",
       "    <tr>\n",
       "      <th>6</th>\n",
       "      <td>2</td>\n",
       "      <td>Singapore</td>\n",
       "      <td>Product P</td>\n",
       "      <td>4479</td>\n",
       "    </tr>\n",
       "    <tr>\n",
       "      <th>7</th>\n",
       "      <td>2</td>\n",
       "      <td>Singapore</td>\n",
       "      <td>Product N</td>\n",
       "      <td>4396</td>\n",
       "    </tr>\n",
       "    <tr>\n",
       "      <th>8</th>\n",
       "      <td>2</td>\n",
       "      <td>Singapore</td>\n",
       "      <td>Product C</td>\n",
       "      <td>4381</td>\n",
       "    </tr>\n",
       "    <tr>\n",
       "      <th>9</th>\n",
       "      <td>3</td>\n",
       "      <td>Sydney</td>\n",
       "      <td>Product M</td>\n",
       "      <td>4335</td>\n",
       "    </tr>\n",
       "    <tr>\n",
       "      <th>10</th>\n",
       "      <td>3</td>\n",
       "      <td>Sydney</td>\n",
       "      <td>Product K</td>\n",
       "      <td>4318</td>\n",
       "    </tr>\n",
       "    <tr>\n",
       "      <th>11</th>\n",
       "      <td>3</td>\n",
       "      <td>Sydney</td>\n",
       "      <td>Product L</td>\n",
       "      <td>4313</td>\n",
       "    </tr>\n",
       "    <tr>\n",
       "      <th>12</th>\n",
       "      <td>4</td>\n",
       "      <td>Melbourne</td>\n",
       "      <td>Product J</td>\n",
       "      <td>4438</td>\n",
       "    </tr>\n",
       "    <tr>\n",
       "      <th>13</th>\n",
       "      <td>4</td>\n",
       "      <td>Melbourne</td>\n",
       "      <td>Product D</td>\n",
       "      <td>4400</td>\n",
       "    </tr>\n",
       "    <tr>\n",
       "      <th>14</th>\n",
       "      <td>4</td>\n",
       "      <td>Melbourne</td>\n",
       "      <td>Product I</td>\n",
       "      <td>4391</td>\n",
       "    </tr>\n",
       "    <tr>\n",
       "      <th>15</th>\n",
       "      <td>5</td>\n",
       "      <td>Jakarta</td>\n",
       "      <td>Product D</td>\n",
       "      <td>4328</td>\n",
       "    </tr>\n",
       "    <tr>\n",
       "      <th>16</th>\n",
       "      <td>5</td>\n",
       "      <td>Jakarta</td>\n",
       "      <td>Product J</td>\n",
       "      <td>4309</td>\n",
       "    </tr>\n",
       "    <tr>\n",
       "      <th>17</th>\n",
       "      <td>5</td>\n",
       "      <td>Jakarta</td>\n",
       "      <td>Product C</td>\n",
       "      <td>4305</td>\n",
       "    </tr>\n",
       "    <tr>\n",
       "      <th>18</th>\n",
       "      <td>6</td>\n",
       "      <td>Hong Kong</td>\n",
       "      <td>Product I</td>\n",
       "      <td>4415</td>\n",
       "    </tr>\n",
       "    <tr>\n",
       "      <th>19</th>\n",
       "      <td>6</td>\n",
       "      <td>Hong Kong</td>\n",
       "      <td>Product P</td>\n",
       "      <td>4397</td>\n",
       "    </tr>\n",
       "    <tr>\n",
       "      <th>20</th>\n",
       "      <td>6</td>\n",
       "      <td>Hong Kong</td>\n",
       "      <td>Product O</td>\n",
       "      <td>4369</td>\n",
       "    </tr>\n",
       "    <tr>\n",
       "      <th>21</th>\n",
       "      <td>7</td>\n",
       "      <td>Kuala Lumpur</td>\n",
       "      <td>Product B</td>\n",
       "      <td>4446</td>\n",
       "    </tr>\n",
       "    <tr>\n",
       "      <th>22</th>\n",
       "      <td>7</td>\n",
       "      <td>Kuala Lumpur</td>\n",
       "      <td>Product L</td>\n",
       "      <td>4338</td>\n",
       "    </tr>\n",
       "    <tr>\n",
       "      <th>23</th>\n",
       "      <td>7</td>\n",
       "      <td>Kuala Lumpur</td>\n",
       "      <td>Product J</td>\n",
       "      <td>4336</td>\n",
       "    </tr>\n",
       "  </tbody>\n",
       "</table>\n",
       "</div>"
      ],
      "text/plain": [
       "    user_id     user_city product_name  total_quantity\n",
       "0         0        Prague    Product C            4400\n",
       "1         0        Prague    Product L            4388\n",
       "2         0        Prague    Product G            4362\n",
       "3         1          Brno    Product L            4438\n",
       "4         1          Brno    Product O            4413\n",
       "5         1          Brno    Product N            4386\n",
       "6         2     Singapore    Product P            4479\n",
       "7         2     Singapore    Product N            4396\n",
       "8         2     Singapore    Product C            4381\n",
       "9         3        Sydney    Product M            4335\n",
       "10        3        Sydney    Product K            4318\n",
       "11        3        Sydney    Product L            4313\n",
       "12        4     Melbourne    Product J            4438\n",
       "13        4     Melbourne    Product D            4400\n",
       "14        4     Melbourne    Product I            4391\n",
       "15        5       Jakarta    Product D            4328\n",
       "16        5       Jakarta    Product J            4309\n",
       "17        5       Jakarta    Product C            4305\n",
       "18        6     Hong Kong    Product I            4415\n",
       "19        6     Hong Kong    Product P            4397\n",
       "20        6     Hong Kong    Product O            4369\n",
       "21        7  Kuala Lumpur    Product B            4446\n",
       "22        7  Kuala Lumpur    Product L            4338\n",
       "23        7  Kuala Lumpur    Product J            4336"
      ]
     },
     "execution_count": 16,
     "metadata": {},
     "output_type": "execute_result"
    }
   ],
   "source": [
    "import pandas as pd\n",
    "df = pd.read_csv('results/question2.csv')\n",
    "df"
   ]
  },
  {
   "cell_type": "markdown",
   "id": "01c21bf8-57a1-4b58-9f7a-f15a36177aeb",
   "metadata": {},
   "source": [
    "### Answer question 2:\n",
    "<b>Based on the results shown above it is clear which products are the best products for a particular location. For example: for location Prague it is Product C with the quantity of 4400, followed by Product L and Product G, while for location Brno it is Product L with the quantity of 4438, followed by Product O and Product N and etc."
   ]
  }
 ],
 "metadata": {
  "kernelspec": {
   "display_name": "Python 3 (ipykernel)",
   "language": "python",
   "name": "python3"
  },
  "language_info": {
   "codemirror_mode": {
    "name": "ipython",
    "version": 3
   },
   "file_extension": ".py",
   "mimetype": "text/x-python",
   "name": "python",
   "nbconvert_exporter": "python",
   "pygments_lexer": "ipython3",
   "version": "3.11.5"
  }
 },
 "nbformat": 4,
 "nbformat_minor": 5
}
